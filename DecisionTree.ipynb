{
  "nbformat": 4,
  "nbformat_minor": 0,
  "metadata": {
    "kernelspec": {
      "display_name": "Python 3",
      "language": "python",
      "name": "python3"
    },
    "language_info": {
      "codemirror_mode": {
        "name": "ipython",
        "version": 3
      },
      "file_extension": ".py",
      "mimetype": "text/x-python",
      "name": "python",
      "nbconvert_exporter": "python",
      "pygments_lexer": "ipython3",
      "version": "3.7.3"
    },
    "colab": {
      "name": "Decision_Tree.ipynb",
      "provenance": []
    }
  },
  "cells": [
    {
      "cell_type": "markdown",
      "metadata": {
        "id": "pFvonuquoi5O"
      },
      "source": [
        "# DECISION TREE\n",
        "\n",
        "The Decision Tree model is a supervised machine learning algorithm where data is continously split based on a certain parameter. The model acts as a classifier(tree structured classifier) and it can be used for both classification and regression tasks. \n",
        "\n",
        "Decision trees have two types of nodes: decision nodes and leaf nodes. The decision node is reponsible for classifying the unlabeled/unknown inputs given to the model. The leaf nodes are classes/the final outcomes.\n",
        "\n",
        "An example of a decision tree can be explained using the following binary tree. Let’s say you want to predict whether a person would accept or decline a job offer. The decision nodes will classify based on conditions like 'What’s the salary range?', 'Is the office near me?', 'Is a cab facility available?' And leaf nodes, which are outcomes: 'Accepted offer' or 'Declined offer'. \n",
        "\n",
        "![image.png](data:image/png;base64,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)"
      ]
    },
    {
      "cell_type": "markdown",
      "metadata": {
        "id": "JfaTvT__pLAn"
      },
      "source": [
        "Dataset Description:\n",
        "\n",
        " - Duration – Duration of trip\n",
        " - Start Date – Includes start date and time\n",
        " - End Date – Includes end date and time\n",
        " - Start Station – Includes starting station name and number\n",
        " - End Station – Includes ending station name and number\n",
        " - Bike Number – Includes ID number of bike used for the trip\n",
        " - Member Type – Indicates whether user was a \"registered\" member (Annual Member, 30-Day Member or Day Key Member) or a \"casual\" rider (Single Trip, 24-Hour Pass, 3-Day Pass or 5-Day Pass)\n",
        "\n",
        "The following Decision Tree model is used for binary classification, some data from each record is used for classification as 'member' or 'casual' for that particular record."
      ]
    },
    {
      "cell_type": "code",
      "metadata": {
        "id": "jLqFHqpboi5S"
      },
      "source": [
        "## importing required libraries\n",
        "\n",
        "import pandas as pd\n",
        "\n",
        "import numpy as np\n",
        "\n",
        "import matplotlib.pyplot as plt"
      ],
      "execution_count": null,
      "outputs": []
    },
    {
      "cell_type": "code",
      "metadata": {
        "id": "uK4dph4Xoi5T"
      },
      "source": [
        "## importing the dataset\n",
        "\n",
        "data_set = pd.read_csv('C:/Users/admin/Desktop/201805-capitalbikeshare-tripdata.csv')"
      ],
      "execution_count": null,
      "outputs": []
    },
    {
      "cell_type": "code",
      "metadata": {
        "id": "JmTGmjmroi5U",
        "outputId": "132f67ba-dc7e-40bf-8ce9-ef67678f15cf"
      },
      "source": [
        "## printing data set summary\n",
        "\n",
        "print(data_set.info())"
      ],
      "execution_count": null,
      "outputs": [
        {
          "output_type": "stream",
          "text": [
            "<class 'pandas.core.frame.DataFrame'>\n",
            "RangeIndex: 374115 entries, 0 to 374114\n",
            "Data columns (total 9 columns):\n",
            "Duration                374115 non-null int64\n",
            "Start date              374115 non-null object\n",
            "End date                374115 non-null object\n",
            "Start station number    374115 non-null int64\n",
            "Start station           374115 non-null object\n",
            "End station number      374115 non-null int64\n",
            "End station             374115 non-null object\n",
            "Bike number             374115 non-null object\n",
            "Member type             374115 non-null object\n",
            "dtypes: int64(3), object(6)\n",
            "memory usage: 25.7+ MB\n",
            "None\n"
          ],
          "name": "stdout"
        }
      ]
    },
    {
      "cell_type": "code",
      "metadata": {
        "id": "hpcsybscoi5V",
        "outputId": "75ccf1ab-4d73-4c64-bbaa-f97fb611df09"
      },
      "source": [
        "## separation of features, class label\n",
        "\n",
        "X = data_set.iloc[:, [0, 3, 5]].values\n",
        "\n",
        "y = data_set.iloc[:, -1].values\n",
        "\n",
        "print(X[:5])\n",
        "\n",
        "print(y[:5])\n"
      ],
      "execution_count": null,
      "outputs": [
        {
          "output_type": "stream",
          "text": [
            "[[  679 31302 31307]\n",
            " [  578 31232 31609]\n",
            " [  580 31232 31609]\n",
            " [  606 31104 31509]\n",
            " [  582 31129 31118]]\n",
            "['Member' 'Casual' 'Casual' 'Member' 'Member']\n"
          ],
          "name": "stdout"
        }
      ]
    },
    {
      "cell_type": "code",
      "metadata": {
        "id": "BQKemNH4oi5W",
        "outputId": "b4a1abb9-0cd2-4f3b-ea72-71f1147d46ee"
      },
      "source": [
        "## encoding categorical data\n",
        "\n",
        "from sklearn.preprocessing import LabelEncoder\n",
        "\n",
        "labelencoder_y =LabelEncoder()\n",
        "\n",
        "y = labelencoder_y.fit_transform(y)\n",
        "\n",
        "print(\"Sample y:\",y[:5])\n",
        "\n",
        "print(\"0 :\",labelencoder_y.classes_[0])\n",
        "\n",
        "print(\"1 :\",labelencoder_y.classes_[1])"
      ],
      "execution_count": null,
      "outputs": [
        {
          "output_type": "stream",
          "text": [
            "Sample y: [1 0 0 1 1]\n",
            "0 : Casual\n",
            "1 : Member\n"
          ],
          "name": "stdout"
        }
      ]
    },
    {
      "cell_type": "code",
      "metadata": {
        "id": "z7_33RCkoi5X"
      },
      "source": [
        "## splitting the data into training & testing sets\n",
        "\n",
        "from sklearn.model_selection import train_test_split\n",
        "\n",
        "X_train, X_test, y_train, y_test = train_test_split(X, y, test_size=0.25, random_state=0)"
      ],
      "execution_count": null,
      "outputs": []
    },
    {
      "cell_type": "code",
      "metadata": {
        "id": "FWT-3kIRoi5Y",
        "outputId": "a0687f38-44e9-4359-c63d-20f2a3fb25f8"
      },
      "source": [
        "## classifier: Decision Tree\n",
        "\n",
        "from sklearn.tree import DecisionTreeClassifier\n",
        "\n",
        "classifier = DecisionTreeClassifier(criterion='entropy', min_samples_leaf=4, random_state=0)\n",
        "\n",
        "classifier.fit(X_train, y_train)"
      ],
      "execution_count": null,
      "outputs": [
        {
          "output_type": "execute_result",
          "data": {
            "text/plain": [
              "DecisionTreeClassifier(class_weight=None, criterion='entropy', max_depth=None,\n",
              "            max_features=None, max_leaf_nodes=None,\n",
              "            min_impurity_decrease=0.0, min_impurity_split=None,\n",
              "            min_samples_leaf=4, min_samples_split=2,\n",
              "            min_weight_fraction_leaf=0.0, presort=False, random_state=0,\n",
              "            splitter='best')"
            ]
          },
          "metadata": {
            "tags": []
          },
          "execution_count": 10
        }
      ]
    },
    {
      "cell_type": "code",
      "metadata": {
        "id": "YYQwebp3oi5Y"
      },
      "source": [
        "## predicting the test set results\n",
        "\n",
        "y_pred = classifier.predict(X_test)\n"
      ],
      "execution_count": null,
      "outputs": []
    },
    {
      "cell_type": "code",
      "metadata": {
        "id": "W-0YDLBSoi5Z",
        "outputId": "08d7733a-6b1f-45d1-d193-e49d73d64615"
      },
      "source": [
        "## confusion Matrix\n",
        "\n",
        "from sklearn.metrics import confusion_matrix\n",
        "\n",
        "cm = confusion_matrix(y_test, y_pred)\n",
        "\n",
        "print(cm)"
      ],
      "execution_count": null,
      "outputs": [
        {
          "output_type": "stream",
          "text": [
            "[[16396  8901]\n",
            " [10599 57633]]\n"
          ],
          "name": "stdout"
        }
      ]
    },
    {
      "cell_type": "code",
      "metadata": {
        "id": "iQaTaU3Coi5a"
      },
      "source": [
        ""
      ],
      "execution_count": null,
      "outputs": []
    }
  ]
}